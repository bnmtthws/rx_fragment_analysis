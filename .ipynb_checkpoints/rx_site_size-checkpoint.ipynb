{
 "metadata": {
  "name": "",
  "signature": "sha256:79ebbe88e2a2f7a8c773474282d5b4aded811fbfddd767ac9e98a25743414846"
 },
 "nbformat": 3,
 "nbformat_minor": 0,
 "worksheets": [
  {
   "cells": [
    {
     "cell_type": "heading",
     "level": 1,
     "metadata": {},
     "source": [
      "python script to determine fragment length resulting from a restriction digest"
     ]
    },
    {
     "cell_type": "heading",
     "level": 6,
     "metadata": {},
     "source": [
      "ben matthews\n",
      "bmatthews@rockefeller.edu\n",
      "8/12/2014"
     ]
    },
    {
     "cell_type": "markdown",
     "metadata": {},
     "source": [
      "import libraries"
     ]
    },
    {
     "cell_type": "code",
     "collapsed": false,
     "input": [
      "from Bio import SeqIO\n",
      "from Bio.Seq import Seq\n",
      "from Bio.Alphabet import generic_dna\n",
      "from Bio import Restriction\n",
      "import re\n",
      "import numpy as np"
     ],
     "language": "python",
     "metadata": {},
     "outputs": [],
     "prompt_number": 1
    },
    {
     "cell_type": "markdown",
     "metadata": {},
     "source": [
      "define location of genome file; in this case the Aedes aegypti genome (available from https://www.vectorbase.org/organisms/aedes-aegypti/liverpool/aaegl3 )"
     ]
    },
    {
     "cell_type": "code",
     "collapsed": false,
     "input": [
      "genome_file = \"/Users/ben/bioinfo/genome/AaegL3_scaffolds.fa\""
     ],
     "language": "python",
     "metadata": {},
     "outputs": [],
     "prompt_number": 2
    },
    {
     "cell_type": "markdown",
     "metadata": {},
     "source": [
      "define list of restriction enzyme recognition sites to use and initialize arrays for fragmenting and sizing"
     ]
    },
    {
     "cell_type": "code",
     "collapsed": false,
     "input": [
      "rxlist = [Restriction.BamHI.site, Restriction.BstYI.site, Restriction.PmeI.site, Restriction.EcoRI.site]\n",
      "rx_re_list = []\n",
      "rx_frag_list = []\n",
      "rx_frag_temp = []\n",
      "\n",
      "for i, rx in enumerate(rxlist):\n",
      "    rx_re_list.append(re.compile(r\"|\".join([str(Seq(rx, generic_dna)),str(Seq(rx, generic_dna).complement())])))\n",
      "    rx_frag_list.append(np.array([]))\n",
      "    rx_frag_temp.append([])"
     ],
     "language": "python",
     "metadata": {},
     "outputs": [],
     "prompt_number": 3
    },
    {
     "cell_type": "markdown",
     "metadata": {},
     "source": [
      "open fasta file"
     ]
    },
    {
     "cell_type": "code",
     "collapsed": false,
     "input": [
      "handle =  open(genome_file, \"rU\")"
     ],
     "language": "python",
     "metadata": {},
     "outputs": [],
     "prompt_number": 4
    },
    {
     "cell_type": "markdown",
     "metadata": {},
     "source": [
      "iterate through fasta entries"
     ]
    },
    {
     "cell_type": "code",
     "collapsed": false,
     "input": [
      "for i, record in enumerate(SeqIO.parse(handle, \"fasta\")):\n",
      "    for j, rx_re in enumerate(rx_re_list):\n",
      "        rx_frag = rx_re.split(str(record.seq))\n",
      "        rx_frag_temp[j] = [len(frag) for frag in rx_frag]\n",
      "        rx_frag_list[j] = np.r_[rx_frag_list[j],rx_frag_temp[j]]"
     ],
     "language": "python",
     "metadata": {},
     "outputs": []
    },
    {
     "cell_type": "markdown",
     "metadata": {},
     "source": [
      "iterate through results and report summary of fragment lengths"
     ]
    },
    {
     "cell_type": "code",
     "collapsed": false,
     "input": [
      "for i, rx in enumerate(rxlist):\n",
      "    print(\"RX recognition site \" + rx + \" results in \" + str(len(rx_frag_list[i])) + \" fragments of mean length \" + str(np.mean(rx_frag_list[i])) + \" \u00b1 \" + str(np.std(rx_frag_list[i])) + \"bp\")"
     ],
     "language": "python",
     "metadata": {},
     "outputs": []
    }
   ],
   "metadata": {}
  }
 ]
}