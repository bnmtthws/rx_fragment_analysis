{
 "metadata": {
  "name": "",
  "signature": "sha256:4ec8c1bf8adb361880582b0df0ef0ac33a085e44cf86f5ef64c195ab816e7df5"
 },
 "nbformat": 3,
 "nbformat_minor": 0,
 "worksheets": [
  {
   "cells": [
    {
     "cell_type": "heading",
     "level": 1,
     "metadata": {},
     "source": [
      "python script to determine fragment length resulting from a restriction digest"
     ]
    },
    {
     "cell_type": "heading",
     "level": 6,
     "metadata": {},
     "source": [
      "ben matthews\n",
      "bmatthews@rockefeller.edu\n",
      "8/12/2014"
     ]
    },
    {
     "cell_type": "markdown",
     "metadata": {},
     "source": [
      "import libraries"
     ]
    },
    {
     "cell_type": "code",
     "collapsed": false,
     "input": [
      "from Bio import SeqIO\n",
      "from Bio.Seq import Seq\n",
      "from Bio.Alphabet import generic_dna\n",
      "import re\n",
      "import numpy as np"
     ],
     "language": "python",
     "metadata": {},
     "outputs": [],
     "prompt_number": 76
    },
    {
     "cell_type": "markdown",
     "metadata": {},
     "source": [
      "define list of restriction enzyme recognition sites to use and initialize arrays for fragmenting and sizing"
     ]
    },
    {
     "cell_type": "code",
     "collapsed": false,
     "input": [
      "rxlist = [\"GATC\", \"GGATCC\"]\n",
      "rx_re_list = []\n",
      "rx_frag_list = []\n",
      "rx_frag_temp = []\n",
      "\n",
      "for i, rx in enumerate(rxlist):\n",
      "    rx_re_list.append(re.compile(r\"|\".join([str(Seq(rx, generic_dna)),str(Seq(rx, generic_dna).complement())])))\n",
      "    rx_frag_list.append(np.array([]))\n",
      "    rx_frag_temp.append([])"
     ],
     "language": "python",
     "metadata": {},
     "outputs": [],
     "prompt_number": 77
    },
    {
     "cell_type": "markdown",
     "metadata": {},
     "source": [
      "open fasta file"
     ]
    },
    {
     "cell_type": "code",
     "collapsed": false,
     "input": [
      "handle =  open(\"AaegL3_scaffolds.fa\", \"rU\")"
     ],
     "language": "python",
     "metadata": {},
     "outputs": [],
     "prompt_number": 78
    },
    {
     "cell_type": "markdown",
     "metadata": {},
     "source": [
      "iterate through fasta entries"
     ]
    },
    {
     "cell_type": "code",
     "collapsed": false,
     "input": [
      "for i, record in enumerate(SeqIO.parse(handle, \"fasta\")):\n",
      "    for j, rx_re in enumerate(rx_re_list):\n",
      "        rx_frag = rx_re.split(str(record.seq))\n",
      "        rx_frag_temp[j] = [len(frag) for frag in rx_frag]\n",
      "        rx_frag_list[j] = np.r_[rx_frag_list[j],rx_frag_temp[j]]"
     ],
     "language": "python",
     "metadata": {},
     "outputs": [],
     "prompt_number": 83
    },
    {
     "cell_type": "markdown",
     "metadata": {},
     "source": [
      "iterate through results and report summary of fragment lengths"
     ]
    },
    {
     "cell_type": "code",
     "collapsed": false,
     "input": [
      "for i, rx in enumerate(rxlist):\n",
      "    print(\"RX recognition site \" + rx + \" results in \" + str(len(rx_frag_list[i])) + \" fragments of mean length \" + str(np.mean(rx_frag_list[i])) + \" \u00b1 \" + str(np.std(rx_frag_list[i])) + \"bp\")"
     ],
     "language": "python",
     "metadata": {},
     "outputs": [
      {
       "output_type": "stream",
       "stream": "stdout",
       "text": [
        "RX recognition site GATC results in 6653353 fragments of mean length 204.014397252 \u00b1 633.473238742bp\n",
        "RX recognition site GGATCC results in 279276 fragments of mean length 4949.68086051 \u00b1 6272.29043793bp\n"
       ]
      }
     ],
     "prompt_number": 84
    },
    {
     "cell_type": "code",
     "collapsed": false,
     "input": [],
     "language": "python",
     "metadata": {},
     "outputs": []
    }
   ],
   "metadata": {}
  }
 ]
}