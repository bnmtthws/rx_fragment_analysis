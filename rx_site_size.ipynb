{
 "metadata": {
  "name": "",
  "signature": "sha256:2f0f8b5fb730a02f6d813bb6268a54bdbe6e11c6f85f086e59d835bee5530c94"
 },
 "nbformat": 3,
 "nbformat_minor": 0,
 "worksheets": [
  {
   "cells": [
    {
     "cell_type": "heading",
     "level": 1,
     "metadata": {},
     "source": [
      "python script to determine fragment length resulting from a restriction digest"
     ]
    },
    {
     "cell_type": "heading",
     "level": 6,
     "metadata": {},
     "source": [
      "ben matthews\n",
      "bmatthews@rockefeller.edu\n",
      "8/12/2014"
     ]
    },
    {
     "cell_type": "markdown",
     "metadata": {},
     "source": [
      "import libraries"
     ]
    },
    {
     "cell_type": "code",
     "collapsed": false,
     "input": [
      "from Bio import SeqIO\n",
      "from Bio.Seq import Seq\n",
      "from Bio.Alphabet import generic_dna\n",
      "from Bio import Restriction\n",
      "import re\n",
      "import numpy as np"
     ],
     "language": "python",
     "metadata": {},
     "outputs": [],
     "prompt_number": 1
    },
    {
     "cell_type": "markdown",
     "metadata": {},
     "source": [
      "define location of genome file; in this case the Aedes aegypti genome (available from https://www.vectorbase.org/organisms/aedes-aegypti/liverpool/aaegl3 )"
     ]
    },
    {
     "cell_type": "code",
     "collapsed": false,
     "input": [
      "genome_file = \"/Users/ben/bioinfo/genome/AaegL3_scaffolds.fa\""
     ],
     "language": "python",
     "metadata": {},
     "outputs": [],
     "prompt_number": 2
    },
    {
     "cell_type": "markdown",
     "metadata": {},
     "source": [
      "define list of restriction enzyme recognition sites to use and initialize arrays for fragmenting and sizing"
     ]
    },
    {
     "cell_type": "code",
     "collapsed": false,
     "input": [
      "rxlist = [Restriction.BamHI.site, Restriction.BstYI.site, Restriction.PmeI.site, Restriction.EcoRI.site]\n",
      "rx_re_list = []\n",
      "rx_frag_list = []\n",
      "rx_frag_temp = []\n",
      "\n",
      "for i, rx in enumerate(rxlist):\n",
      "    rx_re_list.append(re.compile(r\"|\".join([str(Seq(rx, generic_dna)),str(Seq(rx, generic_dna).complement())])))\n",
      "    rx_frag_list.append(np.array([]))\n",
      "    rx_frag_temp.append([])"
     ],
     "language": "python",
     "metadata": {},
     "outputs": [],
     "prompt_number": 3
    },
    {
     "cell_type": "markdown",
     "metadata": {},
     "source": [
      "open fasta file"
     ]
    },
    {
     "cell_type": "code",
     "collapsed": false,
     "input": [
      "handle =  open(genome_file, \"rU\")"
     ],
     "language": "python",
     "metadata": {},
     "outputs": [],
     "prompt_number": 4
    },
    {
     "cell_type": "markdown",
     "metadata": {},
     "source": [
      "iterate through fasta entries"
     ]
    },
    {
     "cell_type": "code",
     "collapsed": false,
     "input": [
      "for i, record in enumerate(SeqIO.parse(handle, \"fasta\")):\n",
      "    for j, rx_re in enumerate(rx_re_list):\n",
      "        rx_frag = rx_re.split(str(record.seq))\n",
      "        rx_frag_temp[j] = [len(frag) for frag in rx_frag]\n",
      "        rx_frag_list[j] = np.r_[rx_frag_list[j],rx_frag_temp[j]]"
     ],
     "language": "python",
     "metadata": {},
     "outputs": [],
     "prompt_number": 5
    },
    {
     "cell_type": "markdown",
     "metadata": {},
     "source": [
      "iterate through results and report summary of fragment lengths"
     ]
    },
    {
     "cell_type": "code",
     "collapsed": false,
     "input": [
      "for i, rx in enumerate(rxlist):\n",
      "    print(\"RX recognition site \" + rx + \" results in \" + str(len(rx_frag_list[i])) + \" fragments of mean length \" + str(np.mean(rx_frag_list[i])) + \" \u00b1 \" + str(np.std(rx_frag_list[i])) + \"bp\")"
     ],
     "language": "python",
     "metadata": {},
     "outputs": [
      {
       "output_type": "stream",
       "stream": "stdout",
       "text": [
        "RX recognition site GGATCC results in 279276 fragments of mean length 4949.68086051 \u00b1 6272.29043793bp\n",
        "RX recognition site RGATCY results in 4757 fragments of mean length 290934.241329 \u00b1 663705.789059bp\n",
        "RX recognition site GTTTAAAC results in 143332 fragments of mean length 9647.98918595 \u00b1 11283.8716367bp\n",
        "RX recognition site GAATTC results in 995269 fragments of mean length 1384.5815694 \u00b1 2305.36511773bp\n"
       ]
      }
     ],
     "prompt_number": 6
    }
   ],
   "metadata": {}
  }
 ]
}